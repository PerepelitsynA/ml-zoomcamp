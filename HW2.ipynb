{
 "cells": [
  {
   "cell_type": "code",
   "execution_count": 1,
   "metadata": {},
   "outputs": [],
   "source": [
    "import pandas as pd \n",
    "import numpy as np\n",
    "import matplotlib.pyplot as plt \n",
    "import seaborn as sns\n",
    "\n",
    "%matplotlib inline"
   ]
  },
  {
   "cell_type": "code",
   "execution_count": 2,
   "metadata": {},
   "outputs": [
    {
     "data": {
      "text/html": [
       "<div>\n",
       "<style scoped>\n",
       "    .dataframe tbody tr th:only-of-type {\n",
       "        vertical-align: middle;\n",
       "    }\n",
       "\n",
       "    .dataframe tbody tr th {\n",
       "        vertical-align: top;\n",
       "    }\n",
       "\n",
       "    .dataframe thead th {\n",
       "        text-align: right;\n",
       "    }\n",
       "</style>\n",
       "<table border=\"1\" class=\"dataframe\">\n",
       "  <thead>\n",
       "    <tr style=\"text-align: right;\">\n",
       "      <th></th>\n",
       "      <th>longitude</th>\n",
       "      <th>latitude</th>\n",
       "      <th>housing_median_age</th>\n",
       "      <th>total_rooms</th>\n",
       "      <th>total_bedrooms</th>\n",
       "      <th>population</th>\n",
       "      <th>households</th>\n",
       "      <th>median_income</th>\n",
       "      <th>median_house_value</th>\n",
       "      <th>ocean_proximity</th>\n",
       "    </tr>\n",
       "  </thead>\n",
       "  <tbody>\n",
       "    <tr>\n",
       "      <th>0</th>\n",
       "      <td>-122.23</td>\n",
       "      <td>37.88</td>\n",
       "      <td>41.0</td>\n",
       "      <td>880.0</td>\n",
       "      <td>129.0</td>\n",
       "      <td>322.0</td>\n",
       "      <td>126.0</td>\n",
       "      <td>8.3252</td>\n",
       "      <td>452600.0</td>\n",
       "      <td>NEAR BAY</td>\n",
       "    </tr>\n",
       "    <tr>\n",
       "      <th>1</th>\n",
       "      <td>-122.22</td>\n",
       "      <td>37.86</td>\n",
       "      <td>21.0</td>\n",
       "      <td>7099.0</td>\n",
       "      <td>1106.0</td>\n",
       "      <td>2401.0</td>\n",
       "      <td>1138.0</td>\n",
       "      <td>8.3014</td>\n",
       "      <td>358500.0</td>\n",
       "      <td>NEAR BAY</td>\n",
       "    </tr>\n",
       "    <tr>\n",
       "      <th>2</th>\n",
       "      <td>-122.24</td>\n",
       "      <td>37.85</td>\n",
       "      <td>52.0</td>\n",
       "      <td>1467.0</td>\n",
       "      <td>190.0</td>\n",
       "      <td>496.0</td>\n",
       "      <td>177.0</td>\n",
       "      <td>7.2574</td>\n",
       "      <td>352100.0</td>\n",
       "      <td>NEAR BAY</td>\n",
       "    </tr>\n",
       "    <tr>\n",
       "      <th>3</th>\n",
       "      <td>-122.25</td>\n",
       "      <td>37.85</td>\n",
       "      <td>52.0</td>\n",
       "      <td>1274.0</td>\n",
       "      <td>235.0</td>\n",
       "      <td>558.0</td>\n",
       "      <td>219.0</td>\n",
       "      <td>5.6431</td>\n",
       "      <td>341300.0</td>\n",
       "      <td>NEAR BAY</td>\n",
       "    </tr>\n",
       "    <tr>\n",
       "      <th>4</th>\n",
       "      <td>-122.25</td>\n",
       "      <td>37.85</td>\n",
       "      <td>52.0</td>\n",
       "      <td>1627.0</td>\n",
       "      <td>280.0</td>\n",
       "      <td>565.0</td>\n",
       "      <td>259.0</td>\n",
       "      <td>3.8462</td>\n",
       "      <td>342200.0</td>\n",
       "      <td>NEAR BAY</td>\n",
       "    </tr>\n",
       "  </tbody>\n",
       "</table>\n",
       "</div>"
      ],
      "text/plain": [
       "   longitude  latitude  housing_median_age  total_rooms  total_bedrooms  \\\n",
       "0    -122.23     37.88                41.0        880.0           129.0   \n",
       "1    -122.22     37.86                21.0       7099.0          1106.0   \n",
       "2    -122.24     37.85                52.0       1467.0           190.0   \n",
       "3    -122.25     37.85                52.0       1274.0           235.0   \n",
       "4    -122.25     37.85                52.0       1627.0           280.0   \n",
       "\n",
       "   population  households  median_income  median_house_value ocean_proximity  \n",
       "0       322.0       126.0         8.3252            452600.0        NEAR BAY  \n",
       "1      2401.0      1138.0         8.3014            358500.0        NEAR BAY  \n",
       "2       496.0       177.0         7.2574            352100.0        NEAR BAY  \n",
       "3       558.0       219.0         5.6431            341300.0        NEAR BAY  \n",
       "4       565.0       259.0         3.8462            342200.0        NEAR BAY  "
      ]
     },
     "execution_count": 2,
     "metadata": {},
     "output_type": "execute_result"
    }
   ],
   "source": [
    "df = pd.read_csv('housing.csv')\n",
    "df.head()"
   ]
  },
  {
   "cell_type": "code",
   "execution_count": 3,
   "metadata": {},
   "outputs": [
    {
     "data": {
      "image/png": "[encoded data removed]",
      "text/plain": [
       "<Figure size 432x288 with 1 Axes>"
      ]
     },
     "metadata": {
      "needs_background": "light"
     },
     "output_type": "display_data"
    }
   ],
   "source": [
    "# look at the distribution median_house_value\n",
    "df['median_house_value'].hist(bins = 20);\n"
   ]
  },
  {
   "cell_type": "markdown",
   "metadata": {},
   "source": [
    "### this distribution has long tail"
   ]
  },
  {
   "cell_type": "code",
   "execution_count": 4,
   "metadata": {},
   "outputs": [
    {
     "data": {
      "image/png": "[encoded data removed]",
      "text/plain": [
       "<Figure size 432x288 with 1 Axes>"
      ]
     },
     "metadata": {
      "needs_background": "light"
     },
     "output_type": "display_data"
    }
   ],
   "source": [
    "# it's look like log-norm distribution\n",
    "np.log(df['median_house_value']).hist(bins = 20);"
   ]
  },
  {
   "cell_type": "code",
   "execution_count": 5,
   "metadata": {},
   "outputs": [],
   "source": [
    "# just need columns \n",
    "df = df[['latitude', 'longitude', 'housing_median_age', 'total_rooms', 'total_bedrooms', 'population',\n",
    "        'households', 'median_income','median_house_value']]"
   ]
  },
  {
   "cell_type": "code",
   "execution_count": 6,
   "metadata": {},
   "outputs": [
    {
     "data": {
      "text/plain": [
       "latitude                0\n",
       "longitude               0\n",
       "housing_median_age      0\n",
       "total_rooms             0\n",
       "total_bedrooms        207\n",
       "population              0\n",
       "households              0\n",
       "median_income           0\n",
       "median_house_value      0\n",
       "dtype: int64"
      ]
     },
     "execution_count": 6,
     "metadata": {},
     "output_type": "execute_result"
    }
   ],
   "source": [
    "# Find a feature with missing values. How many missing values does it have?\n",
    "df.isna().sum()"
   ]
  },
  {
   "cell_type": "code",
   "execution_count": 7,
   "metadata": {},
   "outputs": [
    {
     "data": {
      "text/plain": [
       "1166.0"
      ]
     },
     "execution_count": 7,
     "metadata": {},
     "output_type": "execute_result"
    }
   ],
   "source": [
    "# What's the median (50% percentile) for variable 'population'?\n",
    "df['population'].median()"
   ]
  },
  {
   "cell_type": "code",
   "execution_count": 8,
   "metadata": {},
   "outputs": [],
   "source": [
    "# Shuffle the initial dataset, use seed 42.\n",
    "# Split your data in train/val/test sets, with 60%/20%/20% distribution.\n",
    "# Make sure that the target value ('median_house_value') is not in your dataframe.\n",
    "# Apply the log transformation to the median_house_value variable using the np.log1p() function.\n",
    "\n",
    "np.random.seed(42) # fix random seed\n",
    "\n",
    "n = df.shape[0]\n",
    "n_test_valid = int(n*0.2)\n",
    "n_train = n - 2 * n_test_valid\n",
    "idx = np.arange(n)\n",
    "np.random.shuffle(idx)"
   ]
  },
  {
   "cell_type": "code",
   "execution_count": 9,
   "metadata": {},
   "outputs": [
    {
     "name": "stdout",
     "output_type": "stream",
     "text": [
      "20640 20640\n"
     ]
    }
   ],
   "source": [
    "# check how we separate dataset \n",
    "print(n, n_train + 2*n_test_valid)"
   ]
  },
  {
   "cell_type": "code",
   "execution_count": 10,
   "metadata": {},
   "outputs": [],
   "source": [
    "df_train = df.iloc[idx[:n_train]]\n",
    "df_valid = df.iloc[idx[n_train:n_train + n_test_valid]]\n",
    "df_test = df.iloc[idx[n_train + n_test_valid:]]"
   ]
  },
  {
   "cell_type": "code",
   "execution_count": 11,
   "metadata": {},
   "outputs": [
    {
     "data": {
      "text/plain": [
       "(20640, 20640)"
      ]
     },
     "execution_count": 11,
     "metadata": {},
     "output_type": "execute_result"
    }
   ],
   "source": [
    "# check length \n",
    "df.shape[0], df_train.shape[0] + df_valid.shape[0] + df_test.shape[0]"
   ]
  },
  {
   "cell_type": "code",
   "execution_count": 12,
   "metadata": {},
   "outputs": [
    {
     "name": "stdout",
     "output_type": "stream",
     "text": [
      "---------train----------\n"
     ]
    },
    {
     "data": {
      "text/html": [
       "<div>\n",
       "<style scoped>\n",
       "    .dataframe tbody tr th:only-of-type {\n",
       "        vertical-align: middle;\n",
       "    }\n",
       "\n",
       "    .dataframe tbody tr th {\n",
       "        vertical-align: top;\n",
       "    }\n",
       "\n",
       "    .dataframe thead th {\n",
       "        text-align: right;\n",
       "    }\n",
       "</style>\n",
       "<table border=\"1\" class=\"dataframe\">\n",
       "  <thead>\n",
       "    <tr style=\"text-align: right;\">\n",
       "      <th></th>\n",
       "      <th>latitude</th>\n",
       "      <th>longitude</th>\n",
       "      <th>housing_median_age</th>\n",
       "      <th>total_rooms</th>\n",
       "      <th>total_bedrooms</th>\n",
       "      <th>population</th>\n",
       "      <th>households</th>\n",
       "      <th>median_income</th>\n",
       "      <th>median_house_value</th>\n",
       "    </tr>\n",
       "  </thead>\n",
       "  <tbody>\n",
       "    <tr>\n",
       "      <th>20046</th>\n",
       "      <td>36.06</td>\n",
       "      <td>-119.01</td>\n",
       "      <td>25.0</td>\n",
       "      <td>1505.0</td>\n",
       "      <td>NaN</td>\n",
       "      <td>1392.0</td>\n",
       "      <td>359.0</td>\n",
       "      <td>1.6812</td>\n",
       "      <td>47700.0</td>\n",
       "    </tr>\n",
       "    <tr>\n",
       "      <th>3024</th>\n",
       "      <td>35.14</td>\n",
       "      <td>-119.46</td>\n",
       "      <td>30.0</td>\n",
       "      <td>2943.0</td>\n",
       "      <td>NaN</td>\n",
       "      <td>1565.0</td>\n",
       "      <td>584.0</td>\n",
       "      <td>2.5313</td>\n",
       "      <td>45800.0</td>\n",
       "    </tr>\n",
       "    <tr>\n",
       "      <th>15663</th>\n",
       "      <td>37.80</td>\n",
       "      <td>-122.44</td>\n",
       "      <td>52.0</td>\n",
       "      <td>3830.0</td>\n",
       "      <td>NaN</td>\n",
       "      <td>1310.0</td>\n",
       "      <td>963.0</td>\n",
       "      <td>3.4801</td>\n",
       "      <td>500001.0</td>\n",
       "    </tr>\n",
       "    <tr>\n",
       "      <th>20484</th>\n",
       "      <td>34.28</td>\n",
       "      <td>-118.72</td>\n",
       "      <td>17.0</td>\n",
       "      <td>3051.0</td>\n",
       "      <td>NaN</td>\n",
       "      <td>1705.0</td>\n",
       "      <td>495.0</td>\n",
       "      <td>5.7376</td>\n",
       "      <td>218600.0</td>\n",
       "    </tr>\n",
       "    <tr>\n",
       "      <th>9814</th>\n",
       "      <td>36.62</td>\n",
       "      <td>-121.93</td>\n",
       "      <td>34.0</td>\n",
       "      <td>2351.0</td>\n",
       "      <td>NaN</td>\n",
       "      <td>1063.0</td>\n",
       "      <td>428.0</td>\n",
       "      <td>3.7250</td>\n",
       "      <td>278000.0</td>\n",
       "    </tr>\n",
       "  </tbody>\n",
       "</table>\n",
       "</div>"
      ],
      "text/plain": [
       "       latitude  longitude  housing_median_age  total_rooms  total_bedrooms  \\\n",
       "20046     36.06    -119.01                25.0       1505.0             NaN   \n",
       "3024      35.14    -119.46                30.0       2943.0             NaN   \n",
       "15663     37.80    -122.44                52.0       3830.0             NaN   \n",
       "20484     34.28    -118.72                17.0       3051.0             NaN   \n",
       "9814      36.62    -121.93                34.0       2351.0             NaN   \n",
       "\n",
       "       population  households  median_income  median_house_value  \n",
       "20046      1392.0       359.0         1.6812             47700.0  \n",
       "3024       1565.0       584.0         2.5313             45800.0  \n",
       "15663      1310.0       963.0         3.4801            500001.0  \n",
       "20484      1705.0       495.0         5.7376            218600.0  \n",
       "9814       1063.0       428.0         3.7250            278000.0  "
      ]
     },
     "metadata": {},
     "output_type": "display_data"
    },
    {
     "name": "stdout",
     "output_type": "stream",
     "text": [
      "---------valid----------\n"
     ]
    },
    {
     "data": {
      "text/html": [
       "<div>\n",
       "<style scoped>\n",
       "    .dataframe tbody tr th:only-of-type {\n",
       "        vertical-align: middle;\n",
       "    }\n",
       "\n",
       "    .dataframe tbody tr th {\n",
       "        vertical-align: top;\n",
       "    }\n",
       "\n",
       "    .dataframe thead th {\n",
       "        text-align: right;\n",
       "    }\n",
       "</style>\n",
       "<table border=\"1\" class=\"dataframe\">\n",
       "  <thead>\n",
       "    <tr style=\"text-align: right;\">\n",
       "      <th></th>\n",
       "      <th>latitude</th>\n",
       "      <th>longitude</th>\n",
       "      <th>housing_median_age</th>\n",
       "      <th>total_rooms</th>\n",
       "      <th>total_bedrooms</th>\n",
       "      <th>population</th>\n",
       "      <th>households</th>\n",
       "      <th>median_income</th>\n",
       "      <th>median_house_value</th>\n",
       "    </tr>\n",
       "  </thead>\n",
       "  <tbody>\n",
       "    <tr>\n",
       "      <th>19660</th>\n",
       "      <td>37.51</td>\n",
       "      <td>-120.85</td>\n",
       "      <td>15.0</td>\n",
       "      <td>1131.0</td>\n",
       "      <td>285.0</td>\n",
       "      <td>728.0</td>\n",
       "      <td>281.0</td>\n",
       "      <td>1.5531</td>\n",
       "      <td>93100.0</td>\n",
       "    </tr>\n",
       "    <tr>\n",
       "      <th>4415</th>\n",
       "      <td>34.09</td>\n",
       "      <td>-118.25</td>\n",
       "      <td>52.0</td>\n",
       "      <td>1866.0</td>\n",
       "      <td>470.0</td>\n",
       "      <td>1211.0</td>\n",
       "      <td>417.0</td>\n",
       "      <td>2.9350</td>\n",
       "      <td>189400.0</td>\n",
       "    </tr>\n",
       "    <tr>\n",
       "      <th>18113</th>\n",
       "      <td>37.31</td>\n",
       "      <td>-122.02</td>\n",
       "      <td>34.0</td>\n",
       "      <td>2629.0</td>\n",
       "      <td>433.0</td>\n",
       "      <td>1301.0</td>\n",
       "      <td>431.0</td>\n",
       "      <td>6.0830</td>\n",
       "      <td>341400.0</td>\n",
       "    </tr>\n",
       "    <tr>\n",
       "      <th>17673</th>\n",
       "      <td>37.30</td>\n",
       "      <td>-121.88</td>\n",
       "      <td>16.0</td>\n",
       "      <td>2692.0</td>\n",
       "      <td>749.0</td>\n",
       "      <td>1674.0</td>\n",
       "      <td>681.0</td>\n",
       "      <td>2.6763</td>\n",
       "      <td>191100.0</td>\n",
       "    </tr>\n",
       "    <tr>\n",
       "      <th>16992</th>\n",
       "      <td>37.56</td>\n",
       "      <td>-122.27</td>\n",
       "      <td>17.0</td>\n",
       "      <td>3211.0</td>\n",
       "      <td>847.0</td>\n",
       "      <td>1553.0</td>\n",
       "      <td>812.0</td>\n",
       "      <td>4.9434</td>\n",
       "      <td>292100.0</td>\n",
       "    </tr>\n",
       "  </tbody>\n",
       "</table>\n",
       "</div>"
      ],
      "text/plain": [
       "       latitude  longitude  housing_median_age  total_rooms  total_bedrooms  \\\n",
       "19660     37.51    -120.85                15.0       1131.0           285.0   \n",
       "4415      34.09    -118.25                52.0       1866.0           470.0   \n",
       "18113     37.31    -122.02                34.0       2629.0           433.0   \n",
       "17673     37.30    -121.88                16.0       2692.0           749.0   \n",
       "16992     37.56    -122.27                17.0       3211.0           847.0   \n",
       "\n",
       "       population  households  median_income  median_house_value  \n",
       "19660       728.0       281.0         1.5531             93100.0  \n",
       "4415       1211.0       417.0         2.9350            189400.0  \n",
       "18113      1301.0       431.0         6.0830            341400.0  \n",
       "17673      1674.0       681.0         2.6763            191100.0  \n",
       "16992      1553.0       812.0         4.9434            292100.0  "
      ]
     },
     "metadata": {},
     "output_type": "display_data"
    },
    {
     "name": "stdout",
     "output_type": "stream",
     "text": [
      "---------test----------\n"
     ]
    },
    {
     "data": {
      "text/html": [
       "<div>\n",
       "<style scoped>\n",
       "    .dataframe tbody tr th:only-of-type {\n",
       "        vertical-align: middle;\n",
       "    }\n",
       "\n",
       "    .dataframe tbody tr th {\n",
       "        vertical-align: top;\n",
       "    }\n",
       "\n",
       "    .dataframe thead th {\n",
       "        text-align: right;\n",
       "    }\n",
       "</style>\n",
       "<table border=\"1\" class=\"dataframe\">\n",
       "  <thead>\n",
       "    <tr style=\"text-align: right;\">\n",
       "      <th></th>\n",
       "      <th>latitude</th>\n",
       "      <th>longitude</th>\n",
       "      <th>housing_median_age</th>\n",
       "      <th>total_rooms</th>\n",
       "      <th>total_bedrooms</th>\n",
       "      <th>population</th>\n",
       "      <th>households</th>\n",
       "      <th>median_income</th>\n",
       "      <th>median_house_value</th>\n",
       "    </tr>\n",
       "  </thead>\n",
       "  <tbody>\n",
       "    <tr>\n",
       "      <th>9221</th>\n",
       "      <td>37.13</td>\n",
       "      <td>-120.26</td>\n",
       "      <td>33.0</td>\n",
       "      <td>1239.0</td>\n",
       "      <td>250.0</td>\n",
       "      <td>648.0</td>\n",
       "      <td>227.0</td>\n",
       "      <td>2.0278</td>\n",
       "      <td>58800.0</td>\n",
       "    </tr>\n",
       "    <tr>\n",
       "      <th>10234</th>\n",
       "      <td>33.86</td>\n",
       "      <td>-117.91</td>\n",
       "      <td>26.0</td>\n",
       "      <td>2296.0</td>\n",
       "      <td>570.0</td>\n",
       "      <td>1415.0</td>\n",
       "      <td>527.0</td>\n",
       "      <td>2.4732</td>\n",
       "      <td>165800.0</td>\n",
       "    </tr>\n",
       "    <tr>\n",
       "      <th>4763</th>\n",
       "      <td>34.04</td>\n",
       "      <td>-118.36</td>\n",
       "      <td>48.0</td>\n",
       "      <td>1769.0</td>\n",
       "      <td>429.0</td>\n",
       "      <td>993.0</td>\n",
       "      <td>405.0</td>\n",
       "      <td>2.3214</td>\n",
       "      <td>139400.0</td>\n",
       "    </tr>\n",
       "    <tr>\n",
       "      <th>9062</th>\n",
       "      <td>34.69</td>\n",
       "      <td>-118.15</td>\n",
       "      <td>32.0</td>\n",
       "      <td>1300.0</td>\n",
       "      <td>234.0</td>\n",
       "      <td>712.0</td>\n",
       "      <td>249.0</td>\n",
       "      <td>3.2500</td>\n",
       "      <td>107500.0</td>\n",
       "    </tr>\n",
       "    <tr>\n",
       "      <th>1874</th>\n",
       "      <td>38.93</td>\n",
       "      <td>-119.97</td>\n",
       "      <td>24.0</td>\n",
       "      <td>856.0</td>\n",
       "      <td>185.0</td>\n",
       "      <td>388.0</td>\n",
       "      <td>108.0</td>\n",
       "      <td>3.1806</td>\n",
       "      <td>107200.0</td>\n",
       "    </tr>\n",
       "  </tbody>\n",
       "</table>\n",
       "</div>"
      ],
      "text/plain": [
       "       latitude  longitude  housing_median_age  total_rooms  total_bedrooms  \\\n",
       "9221      37.13    -120.26                33.0       1239.0           250.0   \n",
       "10234     33.86    -117.91                26.0       2296.0           570.0   \n",
       "4763      34.04    -118.36                48.0       1769.0           429.0   \n",
       "9062      34.69    -118.15                32.0       1300.0           234.0   \n",
       "1874      38.93    -119.97                24.0        856.0           185.0   \n",
       "\n",
       "       population  households  median_income  median_house_value  \n",
       "9221        648.0       227.0         2.0278             58800.0  \n",
       "10234      1415.0       527.0         2.4732            165800.0  \n",
       "4763        993.0       405.0         2.3214            139400.0  \n",
       "9062        712.0       249.0         3.2500            107500.0  \n",
       "1874        388.0       108.0         3.1806            107200.0  "
      ]
     },
     "metadata": {},
     "output_type": "display_data"
    }
   ],
   "source": [
    "# whatch dataset \n",
    "print('---------train----------')\n",
    "display(df_train.head()) \n",
    "print('---------valid----------')\n",
    "display(df_valid.head())\n",
    "print('---------test----------')\n",
    "display(df_test.head())"
   ]
  },
  {
   "cell_type": "code",
   "execution_count": 13,
   "metadata": {},
   "outputs": [],
   "source": [
    "# separate target and data \n",
    "X_train = df_train.drop(columns = ['median_house_value'])\n",
    "y_train = np.log1p(df_train['median_house_value'])\n",
    "\n",
    "X_valid = df_valid.drop(columns = ['median_house_value'])\n",
    "y_valid = np.log1p(df_valid['median_house_value'])\n",
    "\n",
    "X_test = df_test.drop(columns = ['median_house_value'])\n",
    "y_test = np.log1p(df_test['median_house_value'])"
   ]
  },
  {
   "cell_type": "code",
   "execution_count": 14,
   "metadata": {},
   "outputs": [],
   "source": [
    "# We need to deal with missing values for the column from Q1.\n",
    "# We have two options: fill it with 0 or with the mean of this variable.\n",
    "# Try both options. For each, train a linear regression model without regularization using the code from the lessons.\n",
    "# For computing the mean, use the training only!\n",
    "# Use the validation dataset to evaluate the models and compare the RMSE of each option.\n",
    "# Round the RMSE scores to 2 decimal digits using round(score, 2)\n",
    "# Which option gives better RMSE?\n",
    "\n",
    "# function train linear regression \n",
    "def train_linear_regression(X, y):\n",
    "    ones = np.ones(X.shape[0])\n",
    "    X = np.column_stack([ones, X])\n",
    "\n",
    "    XTX = X.T.dot(X)\n",
    "    XTX_inv = np.linalg.inv(XTX)\n",
    "    w = XTX_inv.dot(X.T).dot(y)\n",
    "    \n",
    "    return w[0], w[1:]"
   ]
  },
  {
   "cell_type": "code",
   "execution_count": 15,
   "metadata": {},
   "outputs": [],
   "source": [
    "# define own exception \n",
    "class ExceptionUnknownType(Exception):\n",
    "    \"\"\"Raised when unknown type\"\"\"\n",
    "    pass\n",
    "\n",
    "def preparation(X_train , X_valid, X_test, columns : list, methodology = 'zero') -> (np.array , np.array, np.array):\n",
    "    if methodology == 'zero':\n",
    "        for col in columns: \n",
    "            for X in [X_train, X_valid, X_test]:\n",
    "                X[col] = X[col].fillna(0)\n",
    "        return X_train.values, X_valid.values, X_test.values\n",
    "    elif methodology == 'mean':\n",
    "        for col in columns:\n",
    "            mean_val = X_train[col].mean()\n",
    "            for X in [X_train, X_valid, X_test]:\n",
    "                X[col] = X[col].fillna(mean_val)\n",
    "        return X_train.values, X_valid.values, X_test.values\n",
    "    else: \n",
    "        raise ExceptionUnknownType('unknown methodology')\n",
    "\n",
    "        "
   ]
  },
  {
   "cell_type": "code",
   "execution_count": 16,
   "metadata": {},
   "outputs": [],
   "source": [
    "# RMSE\n",
    "def rmse(y, y_pred):\n",
    "    error = y_pred - y\n",
    "    mse = (error ** 2).mean()\n",
    "    return np.sqrt(mse)"
   ]
  },
  {
   "cell_type": "code",
   "execution_count": 17,
   "metadata": {},
   "outputs": [
    {
     "name": "stdout",
     "output_type": "stream",
     "text": [
      "-----------zero-----------\n",
      "RMSE: 0.33\n"
     ]
    },
    {
     "data": {
      "image/png": "[encoded data removed]",
      "text/plain": [
       "<Figure size 432x288 with 1 Axes>"
      ]
     },
     "metadata": {
      "needs_background": "light"
     },
     "output_type": "display_data"
    },
    {
     "name": "stdout",
     "output_type": "stream",
     "text": [
      "-----------mean-----------\n",
      "RMSE: 0.33\n"
     ]
    },
    {
     "data": {
      "image/png": "[encoded data removed]",
      "text/plain": [
       "<Figure size 432x288 with 1 Axes>"
      ]
     },
     "metadata": {
      "needs_background": "light"
     },
     "output_type": "display_data"
    }
   ],
   "source": [
    "# try to 2 methology \n",
    "for method in ['zero', 'mean']:\n",
    "    print('-----------{}-----------'.format(method))\n",
    "    X_train_val, X_valid_val, X_test_val = preparation(X_train.copy() , X_valid.copy(), X_test.copy(), ['total_bedrooms'], method)\n",
    "    \n",
    "    w_0, w_other = train_linear_regression(X_train_val, y_train)\n",
    "    y_pred = w_0 + X_valid_val.dot(w_other)\n",
    "    print('RMSE: {}'.format(round(rmse(y_valid, y_pred),2)))\n",
    "    # look at the graphic\n",
    "    plt.figure(figsize=(6, 4))\n",
    "\n",
    "    plt.hist(y_valid, label='target', color='#222222', alpha=0.6, bins=40)\n",
    "    plt.hist(y_pred, label='prediction', color='#aaaaaa', alpha=0.8, bins=40)\n",
    "\n",
    "    plt.legend()\n",
    "    plt.ylabel('Frequency')\n",
    "    plt.xlabel('Log(Price)')\n",
    "    plt.title('Predictions vs actual distribution')\n",
    "    plt.grid(True)\n",
    "    plt.show()"
   ]
  },
  {
   "cell_type": "code",
   "execution_count": 18,
   "metadata": {},
   "outputs": [],
   "source": [
    "# регулязация \n",
    "def train_linear_regression_reg(X, y, r=0.0):\n",
    "    ones = np.ones(X.shape[0])\n",
    "    X = np.column_stack([ones, X])\n",
    "\n",
    "    XTX = X.T.dot(X)\n",
    "    reg = r * np.eye(XTX.shape[0])\n",
    "    XTX = XTX + reg\n",
    "\n",
    "    XTX_inv = np.linalg.inv(XTX)\n",
    "    w = XTX_inv.dot(X.T).dot(y)\n",
    "    \n",
    "    return w[0], w[1:]"
   ]
  },
  {
   "cell_type": "code",
   "execution_count": 19,
   "metadata": {},
   "outputs": [
    {
     "name": "stdout",
     "output_type": "stream",
     "text": [
      "-----------0-----------\n",
      "RMSE: 0.33\n",
      "-----------1e-06-----------\n",
      "RMSE: 0.33\n",
      "-----------0.0001-----------\n",
      "RMSE: 0.33\n",
      "-----------0.001-----------\n",
      "RMSE: 0.33\n",
      "-----------0.01-----------\n",
      "RMSE: 0.33\n",
      "-----------0.1-----------\n",
      "RMSE: 0.33\n",
      "-----------1-----------\n",
      "RMSE: 0.33\n",
      "-----------5-----------\n",
      "RMSE: 0.34\n",
      "-----------10-----------\n",
      "RMSE: 0.34\n"
     ]
    }
   ],
   "source": [
    "# Now let's train a regularized linear regression.\n",
    "# For this question, fill the NAs with 0.\n",
    "# Try different values of r from this list: [0, 0.000001, 0.0001, 0.001, 0.01, 0.1, 1, 5, 10].\n",
    "# Use RMSE to evaluate the model on the validation dataset.\n",
    "# Round the RMSE scores to 2 decimal digits.\n",
    "# Which r gives the best RMSE?\n",
    "# If there are multiple options, select the smallest r.\n",
    "\n",
    "# try to find best r\n",
    "for r_val in [0, 0.000001, 0.0001, 0.001, 0.01, 0.1, 1, 5, 10]:\n",
    "    print('-----------{}-----------'.format(r_val))\n",
    "    X_train_val, X_valid_val, X_test_val = preparation(X_train.copy() , X_valid.copy(), X_test.copy(), ['total_bedrooms'], 'zero')\n",
    "    \n",
    "    w_0, w_other = train_linear_regression_reg(X_train_val, y_train, r_val)\n",
    "    y_pred = w_0 + X_valid_val.dot(w_other)\n",
    "    print('RMSE: {}'.format(round(rmse(y_valid, y_pred),2)))"
   ]
  },
  {
   "cell_type": "code",
   "execution_count": 20,
   "metadata": {},
   "outputs": [],
   "source": [
    "# We used seed 42 for splitting the data. Let's find out how selecting the seed influences our score.\n",
    "# Try different seed values: [0, 1, 2, 3, 4, 5, 6, 7, 8, 9].\n",
    "# For each seed, do the train/validation/test split with 60%/20%/20% distribution.\n",
    "# Fill the missing values with 0 and train a model without regularization.\n",
    "# For each seed, evaluate the model on the validation dataset and collect the RMSE scores.\n",
    "# What's the standard deviation of all the scores? To compute the standard deviation, use np.std.\n",
    "# Round the result to 3 decimal digits (round(std, 3))"
   ]
  },
  {
   "cell_type": "code",
   "execution_count": 21,
   "metadata": {},
   "outputs": [
    {
     "name": "stdout",
     "output_type": "stream",
     "text": [
      "0.005\n"
     ]
    }
   ],
   "source": [
    "RMSE_result = []\n",
    "\n",
    "for s in [0, 1, 2, 3, 4, 5, 6, 7, 8, 9]:\n",
    "    np.random.seed(s) # fix random seed\n",
    "\n",
    "    n = df.shape[0]\n",
    "    n_test_valid = int(n*0.2)\n",
    "    n_train = n - 2 * n_test_valid\n",
    "    idx = np.arange(n)\n",
    "    np.random.shuffle(idx)\n",
    "    \n",
    "    df_train = df.iloc[idx[:n_train]]\n",
    "    df_valid = df.iloc[idx[n_train:n_train + n_test_valid]]\n",
    "    df_test = df.iloc[idx[n_train + n_test_valid:]]\n",
    "    \n",
    "    \n",
    "    # separate target and data \n",
    "    X_train = df_train.drop(columns = ['median_house_value'])\n",
    "    y_train = np.log1p(df_train['median_house_value'])\n",
    "\n",
    "    X_valid = df_valid.drop(columns = ['median_house_value'])\n",
    "    y_valid = np.log1p(df_valid['median_house_value'])\n",
    "\n",
    "    X_test = df_test.drop(columns = ['median_house_value'])\n",
    "    y_test = np.log1p(df_test['median_house_value'])\n",
    "    \n",
    "    X_train_val, X_valid_val, X_test_val = preparation(X_train.copy() , X_valid.copy(), X_test.copy(), ['total_bedrooms'], 'zero')\n",
    "    # train model \n",
    "    w_0, w_other = train_linear_regression(X_train_val, y_train)\n",
    "    y_pred = w_0 + X_valid_val.dot(w_other)\n",
    "    \n",
    "    RMSE_result.append(round(rmse(y_valid, y_pred), 2))\n",
    "    \n",
    "print(round(np.std(RMSE_result),3))   "
   ]
  },
  {
   "cell_type": "code",
   "execution_count": 22,
   "metadata": {},
   "outputs": [
    {
     "name": "stdout",
     "output_type": "stream",
     "text": [
      "0.35\n"
     ]
    }
   ],
   "source": [
    "# question 6 \n",
    "# Split the dataset like previously, use seed 9.\n",
    "# Combine train and validation datasets.\n",
    "# Fill the missing values with 0 and train a model with r=0.001.\n",
    "# What's the RMSE on the test dataset?\n",
    "\n",
    "np.random.seed(9) # fix random seed\n",
    "\n",
    "n = df.shape[0]\n",
    "n_test_valid = int(n*0.2)\n",
    "n_train = n - 2 * n_test_valid\n",
    "idx = np.arange(n)\n",
    "np.random.shuffle(idx)\n",
    "\n",
    "df_train = df.iloc[idx[:n_train]]\n",
    "df_valid = df.iloc[idx[n_train:n_train + n_test_valid]]\n",
    "df_test = df.iloc[idx[n_train + n_test_valid:]]\n",
    "\n",
    "\n",
    "# separate target and data \n",
    "X_train = df_train.drop(columns = ['median_house_value'])\n",
    "y_train = np.log1p(df_train['median_house_value'])\n",
    "\n",
    "X_valid = df_valid.drop(columns = ['median_house_value'])\n",
    "y_valid = np.log1p(df_valid['median_house_value'])\n",
    "\n",
    "X_test = df_test.drop(columns = ['median_house_value'])\n",
    "y_test = np.log1p(df_test['median_house_value'])\n",
    "\n",
    "X_train_val, X_valid_val, X_test_val = preparation(X_train.copy() , X_valid.copy(), X_test.copy(), ['total_bedrooms'], 'zero')\n",
    "\n",
    "# union our dataset\n",
    "X_train_valid = np.concatenate((X_train_val, X_valid_val), axis = 0)\n",
    "y_train_valid = pd.concat([y_train, y_valid])\n",
    "\n",
    "# train model \n",
    "w_0, w_other = train_linear_regression_reg(X_train_valid, y_train_valid, r=0.001)\n",
    "y_pred = w_0 + X_test_val.dot(w_other)\n",
    "\n",
    "print(round(rmse(y_test, y_pred), 2))"
   ]
  },
  {
   "cell_type": "code",
   "execution_count": null,
   "metadata": {},
   "outputs": [],
   "source": []
  }
 ],
 "metadata": {
  "kernelspec": {
   "display_name": "Python 3",
   "language": "python",
   "name": "python3"
  },
  "language_info": {
   "codemirror_mode": {
    "name": "ipython",
    "version": 3
   },
   "file_extension": ".py",
   "mimetype": "text/x-python",
   "name": "python",
   "nbconvert_exporter": "python",
   "pygments_lexer": "ipython3",
   "version": "3.7.6"
  }
 },
 "nbformat": 4,
 "nbformat_minor": 4
}
