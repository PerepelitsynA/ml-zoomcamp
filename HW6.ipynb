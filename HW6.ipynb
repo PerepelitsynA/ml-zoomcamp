{
 "cells": [
  {
   "cell_type": "code",
   "execution_count": 1,
   "metadata": {},
   "outputs": [],
   "source": [
    "#@ IMPORTING LIBRARIES AND DEPENDENCIES:\n",
    "import re\n",
    "import numpy as np\n",
    "import pandas as pd\n",
    "import seaborn as sns\n",
    "import xgboost as xgb\n",
    "import matplotlib.pyplot as plt\n",
    "from tqdm.auto import tqdm\n",
    "from sklearn.tree import DecisionTreeRegressor\n",
    "from sklearn.tree import export_text\n",
    "from sklearn.feature_extraction import DictVectorizer\n",
    "from sklearn.model_selection import train_test_split\n",
    "from sklearn.ensemble import RandomForestRegressor\n",
    "from sklearn.metrics import mean_squared_error\n",
    "\n",
    "%matplotlib inline"
   ]
  },
  {
   "cell_type": "code",
   "execution_count": 2,
   "metadata": {},
   "outputs": [
    {
     "name": "stdout",
     "output_type": "stream",
     "text": [
      "--2022-10-17 18:54:52--  https://raw.githubusercontent.com/alexeygrigorev/datasets/master/housing.csv\n",
      "Распознаётся raw.githubusercontent.com (raw.githubusercontent.com)… 185.199.111.133, 185.199.108.133, 185.199.110.133, ...\n",
      "Подключение к raw.githubusercontent.com (raw.githubusercontent.com)|185.199.111.133|:443... соединение установлено.\n",
      "HTTP-запрос отправлен. Ожидание ответа… 200 OK\n",
      "Длина: 1423529 (1,4M) [text/plain]\n",
      "Сохранение в: «housing.csv.3»\n",
      "\n",
      "housing.csv.3       100%[===================>]   1,36M   736KB/s    за 1,9s    \n",
      "\n",
      "2022-10-17 18:54:54 (736 KB/s) - «housing.csv.3» сохранён [1423529/1423529]\n",
      "\n"
     ]
    }
   ],
   "source": [
    "#@ DOWNLOADING THE DATASET: UNCOMMENT BELOW:\n",
    "!wget https://raw.githubusercontent.com/alexeygrigorev/datasets/master/housing.csv"
   ]
  },
  {
   "cell_type": "code",
   "execution_count": 3,
   "metadata": {},
   "outputs": [],
   "source": [
    "#@ READING DATASET:\n",
    "PATH = \"./housing.csv\"\n",
    "select_cols = [\"longitude\", \"latitude\", \"housing_median_age\", \"total_rooms\", \"total_bedrooms\", \"population\", \"households\", \n",
    "               \"median_income\", \"median_house_value\", \"ocean_proximity\"]\n",
    "df = pd.read_csv(PATH, usecols=select_cols)\n",
    "df.total_bedrooms = df.total_bedrooms.fillna(0)"
   ]
  },
  {
   "cell_type": "markdown",
   "metadata": {},
   "source": [
    "* Apply the log transform to median_house_value.\n",
    "* train/validation/test split with 60%/20%/20% distribution.\n",
    "* Use the train_test_split function and set the random_state parameter to 1."
   ]
  },
  {
   "cell_type": "code",
   "execution_count": 4,
   "metadata": {},
   "outputs": [],
   "source": [
    "df_full_train, df_test = train_test_split(df, test_size=0.2, random_state = 1)\n",
    "df_train, df_valid = train_test_split(df_full_train, test_size=0.25, random_state = 1)"
   ]
  },
  {
   "cell_type": "code",
   "execution_count": 5,
   "metadata": {},
   "outputs": [],
   "source": [
    "# train/valid/test \n",
    "X_train = df_train.drop(['median_house_value'], axis = 1)\n",
    "y_train = np.log1p(df_train['median_house_value'])\n",
    "\n",
    "X_valid = df_valid.drop(['median_house_value'], axis = 1)\n",
    "y_valid = np.log1p(df_valid['median_house_value'])\n",
    "\n",
    "X_test = df_test.drop(['median_house_value'], axis = 1)\n",
    "y_test = np.log1p(df_test['median_house_value'])"
   ]
  },
  {
   "cell_type": "code",
   "execution_count": 6,
   "metadata": {},
   "outputs": [
    {
     "data": {
      "text/html": [
       "<div>\n",
       "<style scoped>\n",
       "    .dataframe tbody tr th:only-of-type {\n",
       "        vertical-align: middle;\n",
       "    }\n",
       "\n",
       "    .dataframe tbody tr th {\n",
       "        vertical-align: top;\n",
       "    }\n",
       "\n",
       "    .dataframe thead th {\n",
       "        text-align: right;\n",
       "    }\n",
       "</style>\n",
       "<table border=\"1\" class=\"dataframe\">\n",
       "  <thead>\n",
       "    <tr style=\"text-align: right;\">\n",
       "      <th></th>\n",
       "      <th>longitude</th>\n",
       "      <th>latitude</th>\n",
       "      <th>housing_median_age</th>\n",
       "      <th>total_rooms</th>\n",
       "      <th>total_bedrooms</th>\n",
       "      <th>population</th>\n",
       "      <th>households</th>\n",
       "      <th>median_income</th>\n",
       "      <th>ocean_proximity</th>\n",
       "    </tr>\n",
       "  </thead>\n",
       "  <tbody>\n",
       "    <tr>\n",
       "      <th>9107</th>\n",
       "      <td>-118.18</td>\n",
       "      <td>34.63</td>\n",
       "      <td>19.0</td>\n",
       "      <td>3562.0</td>\n",
       "      <td>606.0</td>\n",
       "      <td>1677.0</td>\n",
       "      <td>578.0</td>\n",
       "      <td>4.1573</td>\n",
       "      <td>INLAND</td>\n",
       "    </tr>\n",
       "    <tr>\n",
       "      <th>13999</th>\n",
       "      <td>-116.90</td>\n",
       "      <td>34.69</td>\n",
       "      <td>10.0</td>\n",
       "      <td>337.0</td>\n",
       "      <td>102.0</td>\n",
       "      <td>108.0</td>\n",
       "      <td>50.0</td>\n",
       "      <td>0.4999</td>\n",
       "      <td>INLAND</td>\n",
       "    </tr>\n",
       "    <tr>\n",
       "      <th>5610</th>\n",
       "      <td>-118.26</td>\n",
       "      <td>33.78</td>\n",
       "      <td>27.0</td>\n",
       "      <td>1672.0</td>\n",
       "      <td>491.0</td>\n",
       "      <td>1723.0</td>\n",
       "      <td>462.0</td>\n",
       "      <td>2.0458</td>\n",
       "      <td>NEAR OCEAN</td>\n",
       "    </tr>\n",
       "    <tr>\n",
       "      <th>13533</th>\n",
       "      <td>-117.33</td>\n",
       "      <td>34.17</td>\n",
       "      <td>5.0</td>\n",
       "      <td>4718.0</td>\n",
       "      <td>1140.0</td>\n",
       "      <td>2564.0</td>\n",
       "      <td>1056.0</td>\n",
       "      <td>2.9877</td>\n",
       "      <td>INLAND</td>\n",
       "    </tr>\n",
       "    <tr>\n",
       "      <th>2953</th>\n",
       "      <td>-119.02</td>\n",
       "      <td>35.35</td>\n",
       "      <td>42.0</td>\n",
       "      <td>1239.0</td>\n",
       "      <td>251.0</td>\n",
       "      <td>776.0</td>\n",
       "      <td>272.0</td>\n",
       "      <td>1.9830</td>\n",
       "      <td>INLAND</td>\n",
       "    </tr>\n",
       "  </tbody>\n",
       "</table>\n",
       "</div>"
      ],
      "text/plain": [
       "       longitude  latitude  housing_median_age  total_rooms  total_bedrooms  \\\n",
       "9107     -118.18     34.63                19.0       3562.0           606.0   \n",
       "13999    -116.90     34.69                10.0        337.0           102.0   \n",
       "5610     -118.26     33.78                27.0       1672.0           491.0   \n",
       "13533    -117.33     34.17                 5.0       4718.0          1140.0   \n",
       "2953     -119.02     35.35                42.0       1239.0           251.0   \n",
       "\n",
       "       population  households  median_income ocean_proximity  \n",
       "9107       1677.0       578.0         4.1573          INLAND  \n",
       "13999       108.0        50.0         0.4999          INLAND  \n",
       "5610       1723.0       462.0         2.0458      NEAR OCEAN  \n",
       "13533      2564.0      1056.0         2.9877          INLAND  \n",
       "2953        776.0       272.0         1.9830          INLAND  "
      ]
     },
     "execution_count": 6,
     "metadata": {},
     "output_type": "execute_result"
    }
   ],
   "source": [
    "X_train.head()"
   ]
  },
  {
   "cell_type": "code",
   "execution_count": 7,
   "metadata": {},
   "outputs": [],
   "source": [
    "train_dict = X_train.to_dict(orient='records') \n",
    "valid_dict = X_valid.to_dict(orient='records') \n",
    "test_dict = X_test.to_dict(orient='records') \n",
    "\n",
    "dv = DictVectorizer(sparse = False)\n",
    "dv.fit(train_dict)\n",
    "X_train_fr_dict = dv.transform(train_dict)\n",
    "X_valid_fr_dict = dv.transform(valid_dict)\n",
    "X_test_fr_dict = dv.transform(test_dict)"
   ]
  },
  {
   "cell_type": "markdown",
   "metadata": {},
   "source": [
    "Let's train a decision tree regressor to predict the median_house_value variable.\n",
    "\n",
    "Train a model with max_depth=1."
   ]
  },
  {
   "cell_type": "code",
   "execution_count": 8,
   "metadata": {},
   "outputs": [
    {
     "data": {
      "text/plain": [
       "DecisionTreeRegressor(max_depth=1)"
      ]
     },
     "execution_count": 8,
     "metadata": {},
     "output_type": "execute_result"
    }
   ],
   "source": [
    "dt = DecisionTreeRegressor(max_depth = 1)\n",
    "dt.fit(X_train_fr_dict, y_train)"
   ]
  },
  {
   "cell_type": "code",
   "execution_count": 9,
   "metadata": {},
   "outputs": [
    {
     "name": "stdout",
     "output_type": "stream",
     "text": [
      "|--- ocean_proximity=INLAND <= 0.50\n",
      "|   |--- value: [12.31]\n",
      "|--- ocean_proximity=INLAND >  0.50\n",
      "|   |--- value: [11.61]\n",
      "\n"
     ]
    }
   ],
   "source": [
    "print(export_text(dt, feature_names=dv.get_feature_names()))"
   ]
  },
  {
   "cell_type": "markdown",
   "metadata": {},
   "source": [
    "* n_estimators=10\n",
    "* random_state=1\n",
    "* n_jobs=-1 (optional - to make training faster)"
   ]
  },
  {
   "cell_type": "code",
   "execution_count": 10,
   "metadata": {},
   "outputs": [
    {
     "data": {
      "text/plain": [
       "RandomForestRegressor(n_estimators=10, n_jobs=-1, random_state=1)"
      ]
     },
     "execution_count": 10,
     "metadata": {},
     "output_type": "execute_result"
    }
   ],
   "source": [
    "rf = RandomForestRegressor(n_estimators = 10, random_state = 1, n_jobs = -1)\n",
    "rf.fit(X_train_fr_dict, y_train)"
   ]
  },
  {
   "cell_type": "code",
   "execution_count": 11,
   "metadata": {},
   "outputs": [
    {
     "name": "stdout",
     "output_type": "stream",
     "text": [
      "0.25\n"
     ]
    }
   ],
   "source": [
    "pred = rf.predict(X_valid_fr_dict)\n",
    "mse_train = np.sqrt(mean_squared_error(y_valid, pred))\n",
    "\n",
    "print(round(mse_train,2))"
   ]
  },
  {
   "cell_type": "markdown",
   "metadata": {},
   "source": [
    "Now let's experiment with the n_estimators parameter\n",
    "\n",
    "Try different values of this parameter from 10 to 200 with step 10.\n",
    "Set random_state to 1.\n",
    "Evaluate the model on the validation dataset.\n",
    "After which value of n_estimators does RMSE stop improving?"
   ]
  },
  {
   "cell_type": "code",
   "execution_count": 12,
   "metadata": {},
   "outputs": [
    {
     "data": {
      "image/png": "[encoded data removed]",
      "text/plain": [
       "<Figure size 432x288 with 1 Axes>"
      ]
     },
     "metadata": {
      "needs_background": "light"
     },
     "output_type": "display_data"
    }
   ],
   "source": [
    "result = []\n",
    "\n",
    "for number_trees in range(10,210,10):\n",
    "    rf1 = RandomForestRegressor(n_estimators = number_trees, random_state = 1, n_jobs = -1)\n",
    "    rf1.fit(X_train_fr_dict, y_train)\n",
    "    \n",
    "    pred1 = rf1.predict(X_valid_fr_dict)\n",
    "    result.append(round(np.sqrt(mean_squared_error(y_valid, pred1)),3))\n",
    "    \n",
    "# graphs \n",
    "plt.plot([i for i in range(10,210,10)], result);\n",
    "plt.title('N_estimator and quality');\n",
    "plt.xlabel('n_estimators');\n",
    "plt.ylabel('RMSE');\n",
    "plt.grid(True);\n",
    "    "
   ]
  },
  {
   "cell_type": "markdown",
   "metadata": {},
   "source": [
    "- Try different values of max_depth: [10, 15, 20, 25]\n",
    "- For each of these values, try different values of n_estimators from 10 till 200 (with step 10)\n",
    "- Fix the random seed: random_state=1"
   ]
  },
  {
   "cell_type": "code",
   "execution_count": null,
   "metadata": {},
   "outputs": [
    {
     "name": "stdout",
     "output_type": "stream",
     "text": [
      "Глубина : 10, Кол-во  : 10, Качество : 0.25460133019342457\n",
      "Глубина : 10, Кол-во  : 20, Качество : 0.25259936081647955\n",
      "Глубина : 10, Кол-во  : 30, Качество : 0.25151411073705776\n",
      "Глубина : 10, Кол-во  : 40, Качество : 0.25096319379208554\n",
      "Глубина : 10, Кол-во  : 50, Качество : 0.2501170994722691\n",
      "Глубина : 10, Кол-во  : 60, Качество : 0.2500355633598958\n",
      "Глубина : 10, Кол-во  : 70, Качество : 0.2498733909205666\n",
      "Глубина : 10, Кол-во  : 80, Качество : 0.24958462605555354\n",
      "Глубина : 10, Кол-во  : 90, Качество : 0.24930989281483015\n",
      "Глубина : 10, Кол-во  : 100, Качество : 0.24915323220209934\n",
      "Глубина : 10, Кол-во  : 110, Качество : 0.24891931586008678\n",
      "Глубина : 15, Кол-во  : 10, Качество : 0.24478232042926662\n",
      "Глубина : 15, Кол-во  : 20, Качество : 0.2394329332606766\n",
      "Глубина : 15, Кол-во  : 30, Качество : 0.23702152580570754\n",
      "Глубина : 15, Кол-во  : 40, Качество : 0.2361599383141107\n",
      "Глубина : 15, Кол-во  : 50, Качество : 0.23489942801278305\n",
      "Глубина : 15, Кол-во  : 60, Качество : 0.23479802171481062\n",
      "Глубина : 15, Кол-во  : 70, Качество : 0.23422698812498638\n",
      "Глубина : 15, Кол-во  : 80, Качество : 0.23404863310548518\n",
      "Глубина : 15, Кол-во  : 90, Качество : 0.2338569861863922\n",
      "Глубина : 15, Кол-во  : 100, Качество : 0.2336464211173285\n",
      "Глубина : 15, Кол-во  : 110, Качество : 0.2332650582545526\n",
      "Глубина : 15, Кол-во  : 160, Качество : 0.2332269901174181\n",
      "Глубина : 15, Кол-во  : 170, Качество : 0.23320587960838424\n",
      "Глубина : 20, Кол-во  : 70, Качество : 0.23289956880738644\n",
      "Глубина : 20, Кол-во  : 80, Качество : 0.23283084095459164\n",
      "Глубина : 20, Кол-во  : 90, Качество : 0.23258626622374182\n",
      "Глубина : 20, Кол-во  : 100, Качество : 0.23233870282135732\n",
      "Глубина : 20, Кол-во  : 110, Качество : 0.2320642242037946\n",
      "Глубина : 20, Кол-во  : 120, Качество : 0.23206398564860153\n",
      "Глубина : 20, Кол-во  : 140, Качество : 0.23196483842723448\n",
      "Глубина : 20, Кол-во  : 160, Качество : 0.23194738467426634\n",
      "Глубина : 20, Кол-во  : 170, Качество : 0.2318756774534799\n",
      "Глубина : 20, Кол-во  : 200, Качество : 0.23184092119582553\n",
      "Глубина : 25, Кол-во  : 90, Качество : 0.2316442912428959\n",
      "Глубина : 25, Кол-во  : 100, Качество : 0.23150341103318095\n",
      "Глубина : 25, Кол-во  : 110, Качество : 0.23117863050690873\n"
     ]
    }
   ],
   "source": [
    "best_qual = 10\n",
    "\n",
    "for depth in [10, 15, 20, 25]: \n",
    "    for n_est in [i for i in range(10,210,10)]: \n",
    "        rf1 = RandomForestRegressor(n_estimators = n_est, max_depth = depth, random_state = 1, n_jobs = -1)\n",
    "        rf1.fit(X_train_fr_dict, y_train)\n",
    "    \n",
    "        pred1 = rf1.predict(X_valid_fr_dict)\n",
    "        \n",
    "        qual_cur = np.sqrt(mean_squared_error(y_valid, pred1))\n",
    "        if best_qual > qual_cur:\n",
    "            best_qual = qual_cur\n",
    "            print('Глубина : {}, Кол-во  : {}, Качество : {}'.format(depth, n_est, qual_cur))"
   ]
  },
  {
   "cell_type": "code",
   "execution_count": null,
   "metadata": {},
   "outputs": [],
   "source": [
    "rf1 = RandomForestRegressor(n_estimators=10, max_depth=20, random_state=1, n_jobs=-1 )\n",
    "rf1.fit(X_train_fr_dict, y_train)\n"
   ]
  },
  {
   "cell_type": "code",
   "execution_count": null,
   "metadata": {},
   "outputs": [],
   "source": [
    "feat_import = []\n",
    "for col, feat_imp in zip( dv.get_feature_names(), rf1.feature_importances_):\n",
    "    feat_import.append((col, feat_imp))\n",
    "    \n",
    "sorted(feat_import, key = lambda x : -x[1])"
   ]
  },
  {
   "cell_type": "code",
   "execution_count": null,
   "metadata": {},
   "outputs": [],
   "source": [
    "#@ CREATING THE DMARTIX:\n",
    "features = dv.feature_names_\n",
    "\n",
    "regex = re.compile(r\"<\", re.IGNORECASE)\n",
    "features = [regex.sub(\"_\", col) if any(x in str(col) for x in set(('[', ']', '<'))) else col for col in features]\n",
    "\n",
    "dtrain = xgb.DMatrix(X_train_fr_dict, label=y_train, feature_names=features)\n",
    "dval = xgb.DMatrix(X_valid_fr_dict, label=y_valid, feature_names=features)\n",
    "\n",
    "watchlist = [(dtrain, 'train'), (dval, 'val')]"
   ]
  },
  {
   "cell_type": "code",
   "execution_count": null,
   "metadata": {},
   "outputs": [],
   "source": [
    "xgb_params = {  \n",
    "    'eta': 0.3,  \n",
    "    'max_depth': 6,  \n",
    "    'min_child_weight': 1,  \n",
    "\n",
    "    'objective': 'reg:squarederror',\n",
    "    'nthread': 8,\n",
    "\n",
    "    'seed': 1,\n",
    "    'verbosity': 1,\n",
    "}\n",
    "\n",
    "model = xgb.train(xgb_params, dtrain, num_boost_round=100, evals=watchlist)"
   ]
  },
  {
   "cell_type": "code",
   "execution_count": null,
   "metadata": {},
   "outputs": [],
   "source": [
    "y_pred = model.predict(dval)\n",
    "\n",
    "print(np.sqrt(mean_squared_error(y_valid, y_pred)))"
   ]
  },
  {
   "cell_type": "code",
   "execution_count": null,
   "metadata": {},
   "outputs": [],
   "source": [
    "xgb_params = {  \n",
    "    'eta': 0.1,  \n",
    "    'max_depth': 6,  \n",
    "    'min_child_weight': 1,  \n",
    "\n",
    "    'objective': 'reg:squarederror',\n",
    "    'nthread': 8,\n",
    "\n",
    "    'seed': 1,\n",
    "    'verbosity': 1,\n",
    "}\n",
    "\n",
    "model = xgb.train(xgb_params, dtrain, num_boost_round=100, evals=watchlist)"
   ]
  },
  {
   "cell_type": "code",
   "execution_count": null,
   "metadata": {},
   "outputs": [],
   "source": [
    "y_pred = model.predict(dval)\n",
    "\n",
    "print(np.sqrt(mean_squared_error(y_valid, y_pred)))"
   ]
  },
  {
   "cell_type": "code",
   "execution_count": null,
   "metadata": {},
   "outputs": [],
   "source": []
  }
 ],
 "metadata": {
  "kernelspec": {
   "display_name": "Python 3",
   "language": "python",
   "name": "python3"
  },
  "language_info": {
   "codemirror_mode": {
    "name": "ipython",
    "version": 3
   },
   "file_extension": ".py",
   "mimetype": "text/x-python",
   "name": "python",
   "nbconvert_exporter": "python",
   "pygments_lexer": "ipython3",
   "version": "3.7.6"
  }
 },
 "nbformat": 4,
 "nbformat_minor": 4
}
